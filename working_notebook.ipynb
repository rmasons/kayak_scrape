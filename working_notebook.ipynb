{
 "cells": [
  {
   "cell_type": "code",
   "execution_count": 1,
   "metadata": {},
   "outputs": [],
   "source": [
    "%load_ext autoreload"
   ]
  },
  {
   "cell_type": "code",
   "execution_count": 12,
   "metadata": {},
   "outputs": [],
   "source": [
    "%autoreload 2"
   ]
  },
  {
   "cell_type": "code",
   "execution_count": 13,
   "metadata": {},
   "outputs": [],
   "source": [
    "from kayak_scrape import get_flts, clean_flts\n",
    "from itertools import chain\n",
    "from tqdm.auto import tqdm\n",
    "import pandas as pd\n",
    "import numpy as np"
   ]
  },
  {
   "cell_type": "code",
   "execution_count": 14,
   "metadata": {},
   "outputs": [],
   "source": [
    "#orig_list = ['DFW', 'DAL', 'TUL', 'XNA', 'DCA', 'IAD']\n",
    "orig_list = ['DCA', 'IAD']\n",
    "dest_list = ['SDF', 'LEX']\n",
    "ob_dt_list = ['2025-08-14', '2025-08-13']\n",
    "rtrn_dt = '2025-08-17'"
   ]
  },
  {
   "cell_type": "code",
   "execution_count": 15,
   "metadata": {},
   "outputs": [],
   "source": [
    "col_order =['ob_dep_dt', 'ob_dep_tm', 'ob_arr_tm', 'ob_airline', 'ob_stops', 'ob_orig_arpt', 'ob_dest_arpt', 'rtrn_dep_dt', 'rtrn_dep_tm', 'rtrn_arr_tm', 'rtrn_airline', 'rtrn_stops', 'rtrn_orig_arpt', \n",
    "            'rtrn_dest_arpt', 'cabin', 'fare', 'bkng_link']"
   ]
  },
  {
   "cell_type": "code",
   "execution_count": 16,
   "metadata": {},
   "outputs": [],
   "source": [
    "flts_df = None"
   ]
  },
  {
   "cell_type": "code",
   "execution_count": 21,
   "metadata": {},
   "outputs": [
    {
     "data": {
      "application/vnd.jupyter.widget-view+json": {
       "model_id": "13adf5574ed142ce8bc4e78bf855ce29",
       "version_major": 2,
       "version_minor": 0
      },
      "text/plain": [
       "  0%|          | 0/2 [00:00<?, ?it/s]"
      ]
     },
     "metadata": {},
     "output_type": "display_data"
    },
    {
     "data": {
      "application/vnd.jupyter.widget-view+json": {
       "model_id": "526cefa3d681422bb76af643fffdcb95",
       "version_major": 2,
       "version_minor": 0
      },
      "text/plain": [
       "  0%|          | 0/2 [00:00<?, ?it/s]"
      ]
     },
     "metadata": {},
     "output_type": "display_data"
    },
    {
     "data": {
      "application/vnd.jupyter.widget-view+json": {
       "model_id": "893b37f2bc8a47658f901248f062f36e",
       "version_major": 2,
       "version_minor": 0
      },
      "text/plain": [
       "  0%|          | 0/2 [00:00<?, ?it/s]"
      ]
     },
     "metadata": {},
     "output_type": "display_data"
    },
    {
     "data": {
      "application/vnd.jupyter.widget-view+json": {
       "model_id": "7826d4158b3f438aacfab9f90016a164",
       "version_major": 2,
       "version_minor": 0
      },
      "text/plain": [
       "Cleaning Flights..:   0%|          | 0/15 [00:00<?, ?it/s]"
      ]
     },
     "metadata": {},
     "output_type": "display_data"
    },
    {
     "data": {
      "application/vnd.jupyter.widget-view+json": {
       "model_id": "11e07eeeb7484a81b53f9218c8654299",
       "version_major": 2,
       "version_minor": 0
      },
      "text/plain": [
       "Cleaning Flights..:   0%|          | 0/15 [00:00<?, ?it/s]"
      ]
     },
     "metadata": {},
     "output_type": "display_data"
    },
    {
     "data": {
      "application/vnd.jupyter.widget-view+json": {
       "model_id": "45f9342a85ac4899a975e4e01f47bff4",
       "version_major": 2,
       "version_minor": 0
      },
      "text/plain": [
       "Cleaning Flights..:   0%|          | 0/15 [00:00<?, ?it/s]"
      ]
     },
     "metadata": {},
     "output_type": "display_data"
    },
    {
     "data": {
      "application/vnd.jupyter.widget-view+json": {
       "model_id": "be289aaaad3e4234809f110ab054f6a6",
       "version_major": 2,
       "version_minor": 0
      },
      "text/plain": [
       "Cleaning Flights..:   0%|          | 0/15 [00:00<?, ?it/s]"
      ]
     },
     "metadata": {},
     "output_type": "display_data"
    },
    {
     "data": {
      "application/vnd.jupyter.widget-view+json": {
       "model_id": "8c28638162cd494c8885c1d765b2c687",
       "version_major": 2,
       "version_minor": 0
      },
      "text/plain": [
       "  0%|          | 0/2 [00:00<?, ?it/s]"
      ]
     },
     "metadata": {},
     "output_type": "display_data"
    },
    {
     "data": {
      "application/vnd.jupyter.widget-view+json": {
       "model_id": "a3f3304314634e6ea51ee34590736438",
       "version_major": 2,
       "version_minor": 0
      },
      "text/plain": [
       "Cleaning Flights..:   0%|          | 0/15 [00:00<?, ?it/s]"
      ]
     },
     "metadata": {},
     "output_type": "display_data"
    },
    {
     "data": {
      "application/vnd.jupyter.widget-view+json": {
       "model_id": "6dac37ac274b453db8ad67101ece0648",
       "version_major": 2,
       "version_minor": 0
      },
      "text/plain": [
       "Cleaning Flights..:   0%|          | 0/15 [00:00<?, ?it/s]"
      ]
     },
     "metadata": {},
     "output_type": "display_data"
    },
    {
     "data": {
      "application/vnd.jupyter.widget-view+json": {
       "model_id": "5e2bf1c325b343b09d592ffe87f9b8de",
       "version_major": 2,
       "version_minor": 0
      },
      "text/plain": [
       "Cleaning Flights..:   0%|          | 0/15 [00:00<?, ?it/s]"
      ]
     },
     "metadata": {},
     "output_type": "display_data"
    },
    {
     "data": {
      "application/vnd.jupyter.widget-view+json": {
       "model_id": "839e34853e2a434f9d5f2d2dcb8d3531",
       "version_major": 2,
       "version_minor": 0
      },
      "text/plain": [
       "Cleaning Flights..:   0%|          | 0/15 [00:00<?, ?it/s]"
      ]
     },
     "metadata": {},
     "output_type": "display_data"
    },
    {
     "data": {
      "application/vnd.jupyter.widget-view+json": {
       "model_id": "5ff2d27399004e97b9e017231ed11f43",
       "version_major": 2,
       "version_minor": 0
      },
      "text/plain": [
       "  0%|          | 0/2 [00:00<?, ?it/s]"
      ]
     },
     "metadata": {},
     "output_type": "display_data"
    },
    {
     "data": {
      "application/vnd.jupyter.widget-view+json": {
       "model_id": "cf94683246a74ceda931a87d39ca12ac",
       "version_major": 2,
       "version_minor": 0
      },
      "text/plain": [
       "  0%|          | 0/2 [00:00<?, ?it/s]"
      ]
     },
     "metadata": {},
     "output_type": "display_data"
    },
    {
     "data": {
      "application/vnd.jupyter.widget-view+json": {
       "model_id": "703b9ffaf79942dbb7da690a4422eb04",
       "version_major": 2,
       "version_minor": 0
      },
      "text/plain": [
       "Cleaning Flights..:   0%|          | 0/15 [00:00<?, ?it/s]"
      ]
     },
     "metadata": {},
     "output_type": "display_data"
    },
    {
     "data": {
      "application/vnd.jupyter.widget-view+json": {
       "model_id": "63dd2cf025d34794a6e605fca0a51bc1",
       "version_major": 2,
       "version_minor": 0
      },
      "text/plain": [
       "Cleaning Flights..:   0%|          | 0/15 [00:00<?, ?it/s]"
      ]
     },
     "metadata": {},
     "output_type": "display_data"
    },
    {
     "data": {
      "application/vnd.jupyter.widget-view+json": {
       "model_id": "cd6848caa2a045439547530df0cc70dc",
       "version_major": 2,
       "version_minor": 0
      },
      "text/plain": [
       "Cleaning Flights..:   0%|          | 0/15 [00:00<?, ?it/s]"
      ]
     },
     "metadata": {},
     "output_type": "display_data"
    },
    {
     "data": {
      "application/vnd.jupyter.widget-view+json": {
       "model_id": "70ee20afebab4274ae5088a771685f49",
       "version_major": 2,
       "version_minor": 0
      },
      "text/plain": [
       "Cleaning Flights..:   0%|          | 0/15 [00:00<?, ?it/s]"
      ]
     },
     "metadata": {},
     "output_type": "display_data"
    },
    {
     "data": {
      "application/vnd.jupyter.widget-view+json": {
       "model_id": "534f5cbba32a4118a702c941ee613f3e",
       "version_major": 2,
       "version_minor": 0
      },
      "text/plain": [
       "  0%|          | 0/2 [00:00<?, ?it/s]"
      ]
     },
     "metadata": {},
     "output_type": "display_data"
    },
    {
     "data": {
      "application/vnd.jupyter.widget-view+json": {
       "model_id": "a0955e85c4b7476c86d8d8eae0d39286",
       "version_major": 2,
       "version_minor": 0
      },
      "text/plain": [
       "Cleaning Flights..:   0%|          | 0/15 [00:00<?, ?it/s]"
      ]
     },
     "metadata": {},
     "output_type": "display_data"
    },
    {
     "data": {
      "application/vnd.jupyter.widget-view+json": {
       "model_id": "f45685596c094aaeb8196e3741cf5121",
       "version_major": 2,
       "version_minor": 0
      },
      "text/plain": [
       "Cleaning Flights..:   0%|          | 0/15 [00:00<?, ?it/s]"
      ]
     },
     "metadata": {},
     "output_type": "display_data"
    },
    {
     "data": {
      "application/vnd.jupyter.widget-view+json": {
       "model_id": "88f8a3a009f145fb9347fb04d55d3926",
       "version_major": 2,
       "version_minor": 0
      },
      "text/plain": [
       "Cleaning Flights..:   0%|          | 0/15 [00:00<?, ?it/s]"
      ]
     },
     "metadata": {},
     "output_type": "display_data"
    },
    {
     "data": {
      "application/vnd.jupyter.widget-view+json": {
       "model_id": "49c5fc6a383d46f8a6d83741e9392077",
       "version_major": 2,
       "version_minor": 0
      },
      "text/plain": [
       "Cleaning Flights..:   0%|          | 0/15 [00:00<?, ?it/s]"
      ]
     },
     "metadata": {},
     "output_type": "display_data"
    }
   ],
   "source": [
    "for orig in tqdm(orig_list):\n",
    "    for dest in tqdm(dest_list, leave=False):\n",
    "        for ob_dt in tqdm(ob_dt_list, leave=False):\n",
    "            kayak_url = f'https://www.kayak.com/flights/{orig}-{dest}/{ob_dt}/{rtrn_dt}?sort=bestflight_a'\n",
    "            curr_od_df = clean_flts(get_flts(kayak_url))\n",
    "            curr_od_df['ob_dep_dt'] = pd.to_datetime(ob_dt, format='%Y-%m-%d')\n",
    "            curr_od_df['rtrn_dep_dt'] = pd.to_datetime('2025-08-17', format='%Y-%m-%d')\n",
    "            curr_od_df = curr_od_df[col_order]\n",
    "            flts_df = pd.concat([flts_df, curr_od_df], ignore_index=True) if flts_df else curr_od_df"
   ]
  },
  {
   "cell_type": "code",
   "execution_count": 22,
   "metadata": {},
   "outputs": [
    {
     "data": {
      "text/html": [
       "<div>\n",
       "<style scoped>\n",
       "    .dataframe tbody tr th:only-of-type {\n",
       "        vertical-align: middle;\n",
       "    }\n",
       "\n",
       "    .dataframe tbody tr th {\n",
       "        vertical-align: top;\n",
       "    }\n",
       "\n",
       "    .dataframe thead th {\n",
       "        text-align: right;\n",
       "    }\n",
       "</style>\n",
       "<table border=\"1\" class=\"dataframe\">\n",
       "  <thead>\n",
       "    <tr style=\"text-align: right;\">\n",
       "      <th></th>\n",
       "      <th>ob_dep_tm</th>\n",
       "      <th>ob_arr_tm</th>\n",
       "      <th>ob_airline</th>\n",
       "      <th>ob_stops</th>\n",
       "      <th>ob_orig_arpt</th>\n",
       "      <th>ob_dest_arpt</th>\n",
       "      <th>rtrn_dep_tm</th>\n",
       "      <th>rtrn_arr_tm</th>\n",
       "      <th>rtrn_airline</th>\n",
       "      <th>rtrn_stops</th>\n",
       "      <th>rtrn_orig_arpt</th>\n",
       "      <th>rtrn_dest_arpt</th>\n",
       "      <th>cabin</th>\n",
       "      <th>fare</th>\n",
       "      <th>bkng_link</th>\n",
       "    </tr>\n",
       "  </thead>\n",
       "  <tbody>\n",
       "    <tr>\n",
       "      <th>0</th>\n",
       "      <td>8:20 am</td>\n",
       "      <td>10:16 am</td>\n",
       "      <td>American</td>\n",
       "      <td>0</td>\n",
       "      <td>DCA</td>\n",
       "      <td>SDF</td>\n",
       "      <td>7:51 am</td>\n",
       "      <td>9:29 am</td>\n",
       "      <td>American</td>\n",
       "      <td>0</td>\n",
       "      <td>SDF</td>\n",
       "      <td>DCA</td>\n",
       "      <td>Basic Economy</td>\n",
       "      <td>$229</td>\n",
       "      <td>https://www.kayak.com/book/flight?code=nrACR4H...</td>\n",
       "    </tr>\n",
       "    <tr>\n",
       "      <th>1</th>\n",
       "      <td>8:20 am</td>\n",
       "      <td>10:16 am</td>\n",
       "      <td>American</td>\n",
       "      <td>0</td>\n",
       "      <td>DCA</td>\n",
       "      <td>SDF</td>\n",
       "      <td>7:51 am</td>\n",
       "      <td>9:29 am</td>\n",
       "      <td>American</td>\n",
       "      <td>0</td>\n",
       "      <td>SDF</td>\n",
       "      <td>DCA</td>\n",
       "      <td>Main Cabin</td>\n",
       "      <td>$289</td>\n",
       "      <td>https://www.kayak.com/book/flight?code=nrACR4H...</td>\n",
       "    </tr>\n",
       "    <tr>\n",
       "      <th>2</th>\n",
       "      <td>7:45 pm</td>\n",
       "      <td>9:50 pm</td>\n",
       "      <td>American</td>\n",
       "      <td>0</td>\n",
       "      <td>DCA</td>\n",
       "      <td>SDF</td>\n",
       "      <td>7:51 am</td>\n",
       "      <td>9:29 am</td>\n",
       "      <td>American</td>\n",
       "      <td>0</td>\n",
       "      <td>SDF</td>\n",
       "      <td>DCA</td>\n",
       "      <td>Basic Economy</td>\n",
       "      <td>$263</td>\n",
       "      <td>https://www.kayak.com/book/flight?code=nrACR4H...</td>\n",
       "    </tr>\n",
       "    <tr>\n",
       "      <th>3</th>\n",
       "      <td>7:45 pm</td>\n",
       "      <td>9:50 pm</td>\n",
       "      <td>American</td>\n",
       "      <td>0</td>\n",
       "      <td>DCA</td>\n",
       "      <td>SDF</td>\n",
       "      <td>7:51 am</td>\n",
       "      <td>9:29 am</td>\n",
       "      <td>American</td>\n",
       "      <td>0</td>\n",
       "      <td>SDF</td>\n",
       "      <td>DCA</td>\n",
       "      <td>Main Cabin</td>\n",
       "      <td>$323</td>\n",
       "      <td>https://www.kayak.com/book/flight?code=nrACR4H...</td>\n",
       "    </tr>\n",
       "    <tr>\n",
       "      <th>4</th>\n",
       "      <td>1:44 pm</td>\n",
       "      <td>3:41 pm</td>\n",
       "      <td>American</td>\n",
       "      <td>0</td>\n",
       "      <td>DCA</td>\n",
       "      <td>SDF</td>\n",
       "      <td>7:51 am</td>\n",
       "      <td>9:29 am</td>\n",
       "      <td>American</td>\n",
       "      <td>0</td>\n",
       "      <td>SDF</td>\n",
       "      <td>DCA</td>\n",
       "      <td>Basic Economy</td>\n",
       "      <td>$263</td>\n",
       "      <td>https://www.kayak.com/book/flight?code=nrACR4H...</td>\n",
       "    </tr>\n",
       "    <tr>\n",
       "      <th>...</th>\n",
       "      <td>...</td>\n",
       "      <td>...</td>\n",
       "      <td>...</td>\n",
       "      <td>...</td>\n",
       "      <td>...</td>\n",
       "      <td>...</td>\n",
       "      <td>...</td>\n",
       "      <td>...</td>\n",
       "      <td>...</td>\n",
       "      <td>...</td>\n",
       "      <td>...</td>\n",
       "      <td>...</td>\n",
       "      <td>...</td>\n",
       "      <td>...</td>\n",
       "      <td>...</td>\n",
       "    </tr>\n",
       "    <tr>\n",
       "      <th>595</th>\n",
       "      <td>2:08 pm</td>\n",
       "      <td>5:41 pm</td>\n",
       "      <td>American</td>\n",
       "      <td>1</td>\n",
       "      <td>IAD</td>\n",
       "      <td>LEX</td>\n",
       "      <td>3:56 pm</td>\n",
       "      <td>7:33 pm</td>\n",
       "      <td>American</td>\n",
       "      <td>1</td>\n",
       "      <td>LEX</td>\n",
       "      <td>IAD</td>\n",
       "      <td>Main Plus</td>\n",
       "      <td>$660</td>\n",
       "      <td>https://www.kayak.com/book/flight?code=nsACEwk...</td>\n",
       "    </tr>\n",
       "    <tr>\n",
       "      <th>596</th>\n",
       "      <td>7:00 am</td>\n",
       "      <td>11:28 am</td>\n",
       "      <td>United</td>\n",
       "      <td>1</td>\n",
       "      <td>IAD</td>\n",
       "      <td>LEX</td>\n",
       "      <td>7:30 am</td>\n",
       "      <td>11:43 am</td>\n",
       "      <td>United</td>\n",
       "      <td>1</td>\n",
       "      <td>LEX</td>\n",
       "      <td>IAD</td>\n",
       "      <td>Basic Economy</td>\n",
       "      <td>$345</td>\n",
       "      <td>https://www.kayak.com/book/flight?code=nsACEwk...</td>\n",
       "    </tr>\n",
       "    <tr>\n",
       "      <th>597</th>\n",
       "      <td>7:00 am</td>\n",
       "      <td>11:28 am</td>\n",
       "      <td>United</td>\n",
       "      <td>1</td>\n",
       "      <td>IAD</td>\n",
       "      <td>LEX</td>\n",
       "      <td>7:30 am</td>\n",
       "      <td>11:43 am</td>\n",
       "      <td>United</td>\n",
       "      <td>1</td>\n",
       "      <td>LEX</td>\n",
       "      <td>IAD</td>\n",
       "      <td>Economy</td>\n",
       "      <td>$403</td>\n",
       "      <td>https://www.kayak.com/book/flight?code=nsACEwk...</td>\n",
       "    </tr>\n",
       "    <tr>\n",
       "      <th>598</th>\n",
       "      <td>8:35 am</td>\n",
       "      <td>1:13 pm</td>\n",
       "      <td>United</td>\n",
       "      <td>1</td>\n",
       "      <td>IAD</td>\n",
       "      <td>LEX</td>\n",
       "      <td>7:30 am</td>\n",
       "      <td>11:43 am</td>\n",
       "      <td>United</td>\n",
       "      <td>1</td>\n",
       "      <td>LEX</td>\n",
       "      <td>IAD</td>\n",
       "      <td>Basic Economy</td>\n",
       "      <td>$345</td>\n",
       "      <td>https://www.kayak.com/book/flight?code=nsACEwk...</td>\n",
       "    </tr>\n",
       "    <tr>\n",
       "      <th>599</th>\n",
       "      <td>8:35 am</td>\n",
       "      <td>1:13 pm</td>\n",
       "      <td>United</td>\n",
       "      <td>1</td>\n",
       "      <td>IAD</td>\n",
       "      <td>LEX</td>\n",
       "      <td>7:30 am</td>\n",
       "      <td>11:43 am</td>\n",
       "      <td>United</td>\n",
       "      <td>1</td>\n",
       "      <td>LEX</td>\n",
       "      <td>IAD</td>\n",
       "      <td>Economy</td>\n",
       "      <td>$403</td>\n",
       "      <td>https://www.kayak.com/book/flight?code=nsACEwk...</td>\n",
       "    </tr>\n",
       "  </tbody>\n",
       "</table>\n",
       "<p>600 rows × 15 columns</p>\n",
       "</div>"
      ],
      "text/plain": [
       "    ob_dep_tm ob_arr_tm ob_airline ob_stops ob_orig_arpt ob_dest_arpt  \\\n",
       "0     8:20 am  10:16 am   American        0          DCA          SDF   \n",
       "1     8:20 am  10:16 am   American        0          DCA          SDF   \n",
       "2     7:45 pm   9:50 pm   American        0          DCA          SDF   \n",
       "3     7:45 pm   9:50 pm   American        0          DCA          SDF   \n",
       "4     1:44 pm   3:41 pm   American        0          DCA          SDF   \n",
       "..        ...       ...        ...      ...          ...          ...   \n",
       "595   2:08 pm   5:41 pm   American        1          IAD          LEX   \n",
       "596   7:00 am  11:28 am     United        1          IAD          LEX   \n",
       "597   7:00 am  11:28 am     United        1          IAD          LEX   \n",
       "598   8:35 am   1:13 pm     United        1          IAD          LEX   \n",
       "599   8:35 am   1:13 pm     United        1          IAD          LEX   \n",
       "\n",
       "    rtrn_dep_tm rtrn_arr_tm rtrn_airline rtrn_stops rtrn_orig_arpt  \\\n",
       "0       7:51 am     9:29 am     American          0            SDF   \n",
       "1       7:51 am     9:29 am     American          0            SDF   \n",
       "2       7:51 am     9:29 am     American          0            SDF   \n",
       "3       7:51 am     9:29 am     American          0            SDF   \n",
       "4       7:51 am     9:29 am     American          0            SDF   \n",
       "..          ...         ...          ...        ...            ...   \n",
       "595     3:56 pm     7:33 pm     American          1            LEX   \n",
       "596     7:30 am    11:43 am       United          1            LEX   \n",
       "597     7:30 am    11:43 am       United          1            LEX   \n",
       "598     7:30 am    11:43 am       United          1            LEX   \n",
       "599     7:30 am    11:43 am       United          1            LEX   \n",
       "\n",
       "    rtrn_dest_arpt          cabin  fare  \\\n",
       "0              DCA  Basic Economy  $229   \n",
       "1              DCA     Main Cabin  $289   \n",
       "2              DCA  Basic Economy  $263   \n",
       "3              DCA     Main Cabin  $323   \n",
       "4              DCA  Basic Economy  $263   \n",
       "..             ...            ...   ...   \n",
       "595            IAD      Main Plus  $660   \n",
       "596            IAD  Basic Economy  $345   \n",
       "597            IAD        Economy  $403   \n",
       "598            IAD  Basic Economy  $345   \n",
       "599            IAD        Economy  $403   \n",
       "\n",
       "                                             bkng_link  \n",
       "0    https://www.kayak.com/book/flight?code=nrACR4H...  \n",
       "1    https://www.kayak.com/book/flight?code=nrACR4H...  \n",
       "2    https://www.kayak.com/book/flight?code=nrACR4H...  \n",
       "3    https://www.kayak.com/book/flight?code=nrACR4H...  \n",
       "4    https://www.kayak.com/book/flight?code=nrACR4H...  \n",
       "..                                                 ...  \n",
       "595  https://www.kayak.com/book/flight?code=nsACEwk...  \n",
       "596  https://www.kayak.com/book/flight?code=nsACEwk...  \n",
       "597  https://www.kayak.com/book/flight?code=nsACEwk...  \n",
       "598  https://www.kayak.com/book/flight?code=nsACEwk...  \n",
       "599  https://www.kayak.com/book/flight?code=nsACEwk...  \n",
       "\n",
       "[600 rows x 15 columns]"
      ]
     },
     "execution_count": 22,
     "metadata": {},
     "output_type": "execute_result"
    }
   ],
   "source": [
    "flts_df"
   ]
  },
  {
   "cell_type": "code",
   "execution_count": null,
   "metadata": {},
   "outputs": [],
   "source": []
  }
 ],
 "metadata": {
  "kernelspec": {
   "display_name": "Python 3",
   "language": "python",
   "name": "python3"
  },
  "language_info": {
   "codemirror_mode": {
    "name": "ipython",
    "version": 3
   },
   "file_extension": ".py",
   "mimetype": "text/x-python",
   "name": "python",
   "nbconvert_exporter": "python",
   "pygments_lexer": "ipython3",
   "version": "3.12.0"
  }
 },
 "nbformat": 4,
 "nbformat_minor": 2
}
