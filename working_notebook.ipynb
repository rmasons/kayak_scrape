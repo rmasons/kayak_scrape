{
 "cells": [
  {
   "cell_type": "code",
   "execution_count": 1,
   "metadata": {},
   "outputs": [],
   "source": [
    "%load_ext autoreload"
   ]
  },
  {
   "cell_type": "code",
   "execution_count": 2,
   "metadata": {},
   "outputs": [],
   "source": [
    "%autoreload 2"
   ]
  },
  {
   "cell_type": "code",
   "execution_count": 21,
   "metadata": {},
   "outputs": [],
   "source": [
    "from kayak_scrape import get_flts, clean_flts\n",
    "from itertools import chain\n",
    "from tqdm.auto import tqdm\n",
    "from datetime import datetime\n",
    "import pandas as pd\n",
    "import numpy as np"
   ]
  },
  {
   "cell_type": "code",
   "execution_count": 10,
   "metadata": {},
   "outputs": [],
   "source": [
    "orig_list = ['DFW', 'DAL', 'TUL', 'XNA', 'DCA', 'IAD']\n",
    "dest_list = ['SDF', 'LEX']\n",
    "ob_dt_list = ['2025-08-14', '2025-08-13']\n",
    "rtrn_dt = '2025-08-17'"
   ]
  },
  {
   "cell_type": "code",
   "execution_count": 5,
   "metadata": {},
   "outputs": [],
   "source": [
    "col_order =['ob_dep_dt', 'ob_dep_tm', 'ob_arr_tm', 'ob_airline', 'ob_stops', 'ob_orig_arpt', 'ob_dest_arpt', 'rtrn_dep_dt', 'rtrn_dep_tm', 'rtrn_arr_tm', 'rtrn_airline', 'rtrn_stops', 'rtrn_orig_arpt', \n",
    "            'rtrn_dest_arpt', 'cabin', 'fare', 'bkng_link']"
   ]
  },
  {
   "cell_type": "code",
   "execution_count": 12,
   "metadata": {},
   "outputs": [],
   "source": [
    "first_run = True"
   ]
  },
  {
   "cell_type": "code",
   "execution_count": 13,
   "metadata": {},
   "outputs": [
    {
     "data": {
      "application/vnd.jupyter.widget-view+json": {
       "model_id": "1bbf98b98fd94ea2b40b40073e2ac02d",
       "version_major": 2,
       "version_minor": 0
      },
      "text/plain": [
       "  0%|          | 0/4 [00:00<?, ?it/s]"
      ]
     },
     "metadata": {},
     "output_type": "display_data"
    },
    {
     "data": {
      "application/vnd.jupyter.widget-view+json": {
       "model_id": "f0ad9c498deb414f807678cf729689fb",
       "version_major": 2,
       "version_minor": 0
      },
      "text/plain": [
       "  0%|          | 0/2 [00:00<?, ?it/s]"
      ]
     },
     "metadata": {},
     "output_type": "display_data"
    },
    {
     "data": {
      "application/vnd.jupyter.widget-view+json": {
       "model_id": "382e948fd810450ab9d031c1ddbca569",
       "version_major": 2,
       "version_minor": 0
      },
      "text/plain": [
       "  0%|          | 0/2 [00:00<?, ?it/s]"
      ]
     },
     "metadata": {},
     "output_type": "display_data"
    },
    {
     "data": {
      "application/vnd.jupyter.widget-view+json": {
       "model_id": "c2feafaf43b14e76851a3bd7e948d5ff",
       "version_major": 2,
       "version_minor": 0
      },
      "text/plain": [
       "Cleaning Flights..:   0%|          | 0/16 [00:00<?, ?it/s]"
      ]
     },
     "metadata": {},
     "output_type": "display_data"
    },
    {
     "data": {
      "application/vnd.jupyter.widget-view+json": {
       "model_id": "dd132c1619414231bc02696ad3362baa",
       "version_major": 2,
       "version_minor": 0
      },
      "text/plain": [
       "Cleaning Flights..:   0%|          | 0/16 [00:00<?, ?it/s]"
      ]
     },
     "metadata": {},
     "output_type": "display_data"
    },
    {
     "data": {
      "application/vnd.jupyter.widget-view+json": {
       "model_id": "c5c0fe7970f645309ca94672535e91c1",
       "version_major": 2,
       "version_minor": 0
      },
      "text/plain": [
       "  0%|          | 0/2 [00:00<?, ?it/s]"
      ]
     },
     "metadata": {},
     "output_type": "display_data"
    },
    {
     "data": {
      "application/vnd.jupyter.widget-view+json": {
       "model_id": "447063bf1bec4e819e97e0514391cc32",
       "version_major": 2,
       "version_minor": 0
      },
      "text/plain": [
       "Cleaning Flights..:   0%|          | 0/16 [00:00<?, ?it/s]"
      ]
     },
     "metadata": {},
     "output_type": "display_data"
    },
    {
     "data": {
      "application/vnd.jupyter.widget-view+json": {
       "model_id": "ad65c67167bf44daaf3ba61641a5f4f5",
       "version_major": 2,
       "version_minor": 0
      },
      "text/plain": [
       "Cleaning Flights..:   0%|          | 0/16 [00:00<?, ?it/s]"
      ]
     },
     "metadata": {},
     "output_type": "display_data"
    },
    {
     "data": {
      "application/vnd.jupyter.widget-view+json": {
       "model_id": "0cb7ebbfbd9842e781b92ea8551cf862",
       "version_major": 2,
       "version_minor": 0
      },
      "text/plain": [
       "  0%|          | 0/2 [00:00<?, ?it/s]"
      ]
     },
     "metadata": {},
     "output_type": "display_data"
    },
    {
     "data": {
      "application/vnd.jupyter.widget-view+json": {
       "model_id": "ed8df92c676b431b84e436d2af53ecb9",
       "version_major": 2,
       "version_minor": 0
      },
      "text/plain": [
       "  0%|          | 0/2 [00:00<?, ?it/s]"
      ]
     },
     "metadata": {},
     "output_type": "display_data"
    },
    {
     "data": {
      "application/vnd.jupyter.widget-view+json": {
       "model_id": "16bed7fa66cf4c4195d13bb93dc0e566",
       "version_major": 2,
       "version_minor": 0
      },
      "text/plain": [
       "Cleaning Flights..:   0%|          | 0/16 [00:00<?, ?it/s]"
      ]
     },
     "metadata": {},
     "output_type": "display_data"
    },
    {
     "data": {
      "application/vnd.jupyter.widget-view+json": {
       "model_id": "a8bb755ce300472e8164773849345c31",
       "version_major": 2,
       "version_minor": 0
      },
      "text/plain": [
       "Cleaning Flights..:   0%|          | 0/16 [00:00<?, ?it/s]"
      ]
     },
     "metadata": {},
     "output_type": "display_data"
    },
    {
     "data": {
      "application/vnd.jupyter.widget-view+json": {
       "model_id": "7697fe493462443f80a793f8ebe09bb2",
       "version_major": 2,
       "version_minor": 0
      },
      "text/plain": [
       "  0%|          | 0/2 [00:00<?, ?it/s]"
      ]
     },
     "metadata": {},
     "output_type": "display_data"
    },
    {
     "data": {
      "application/vnd.jupyter.widget-view+json": {
       "model_id": "20a39cbbf2a84b69b74f8933e2849b09",
       "version_major": 2,
       "version_minor": 0
      },
      "text/plain": [
       "Cleaning Flights..:   0%|          | 0/15 [00:00<?, ?it/s]"
      ]
     },
     "metadata": {},
     "output_type": "display_data"
    },
    {
     "data": {
      "application/vnd.jupyter.widget-view+json": {
       "model_id": "8bd5bd90c87d45e8a5f769d4461bbeca",
       "version_major": 2,
       "version_minor": 0
      },
      "text/plain": [
       "Cleaning Flights..:   0%|          | 0/15 [00:00<?, ?it/s]"
      ]
     },
     "metadata": {},
     "output_type": "display_data"
    },
    {
     "data": {
      "application/vnd.jupyter.widget-view+json": {
       "model_id": "ad93934cef514596917e20c7e965befe",
       "version_major": 2,
       "version_minor": 0
      },
      "text/plain": [
       "  0%|          | 0/2 [00:00<?, ?it/s]"
      ]
     },
     "metadata": {},
     "output_type": "display_data"
    },
    {
     "data": {
      "application/vnd.jupyter.widget-view+json": {
       "model_id": "c703b7e7948c469c895a4303d60ded03",
       "version_major": 2,
       "version_minor": 0
      },
      "text/plain": [
       "  0%|          | 0/2 [00:00<?, ?it/s]"
      ]
     },
     "metadata": {},
     "output_type": "display_data"
    },
    {
     "data": {
      "application/vnd.jupyter.widget-view+json": {
       "model_id": "642b1dd6fa5e4217b1013e06ea646044",
       "version_major": 2,
       "version_minor": 0
      },
      "text/plain": [
       "Cleaning Flights..:   0%|          | 0/15 [00:00<?, ?it/s]"
      ]
     },
     "metadata": {},
     "output_type": "display_data"
    },
    {
     "data": {
      "application/vnd.jupyter.widget-view+json": {
       "model_id": "aab6fdbb88924d0aaa132e20946deae8",
       "version_major": 2,
       "version_minor": 0
      },
      "text/plain": [
       "Cleaning Flights..:   0%|          | 0/15 [00:00<?, ?it/s]"
      ]
     },
     "metadata": {},
     "output_type": "display_data"
    },
    {
     "data": {
      "application/vnd.jupyter.widget-view+json": {
       "model_id": "074f38c1ae424f2684f89531c99a6ec5",
       "version_major": 2,
       "version_minor": 0
      },
      "text/plain": [
       "  0%|          | 0/2 [00:00<?, ?it/s]"
      ]
     },
     "metadata": {},
     "output_type": "display_data"
    },
    {
     "data": {
      "application/vnd.jupyter.widget-view+json": {
       "model_id": "ff8e211e75914248934ea64351c84ea4",
       "version_major": 2,
       "version_minor": 0
      },
      "text/plain": [
       "Cleaning Flights..:   0%|          | 0/15 [00:00<?, ?it/s]"
      ]
     },
     "metadata": {},
     "output_type": "display_data"
    },
    {
     "data": {
      "application/vnd.jupyter.widget-view+json": {
       "model_id": "2c1621e6b23842f999e0b392f76ad5cc",
       "version_major": 2,
       "version_minor": 0
      },
      "text/plain": [
       "Cleaning Flights..:   0%|          | 0/15 [00:00<?, ?it/s]"
      ]
     },
     "metadata": {},
     "output_type": "display_data"
    },
    {
     "data": {
      "application/vnd.jupyter.widget-view+json": {
       "model_id": "b2b3f60b806845309cd5837c3c40222e",
       "version_major": 2,
       "version_minor": 0
      },
      "text/plain": [
       "  0%|          | 0/2 [00:00<?, ?it/s]"
      ]
     },
     "metadata": {},
     "output_type": "display_data"
    },
    {
     "data": {
      "application/vnd.jupyter.widget-view+json": {
       "model_id": "397c49d9e0984d58ac2a11de6cc91ac1",
       "version_major": 2,
       "version_minor": 0
      },
      "text/plain": [
       "  0%|          | 0/2 [00:00<?, ?it/s]"
      ]
     },
     "metadata": {},
     "output_type": "display_data"
    },
    {
     "data": {
      "application/vnd.jupyter.widget-view+json": {
       "model_id": "12dec818ce0142c2995cf4b3fea1297a",
       "version_major": 2,
       "version_minor": 0
      },
      "text/plain": [
       "Cleaning Flights..:   0%|          | 0/15 [00:00<?, ?it/s]"
      ]
     },
     "metadata": {},
     "output_type": "display_data"
    },
    {
     "data": {
      "application/vnd.jupyter.widget-view+json": {
       "model_id": "4bbf526f66754c4b991e04f04b963b96",
       "version_major": 2,
       "version_minor": 0
      },
      "text/plain": [
       "Cleaning Flights..:   0%|          | 0/15 [00:00<?, ?it/s]"
      ]
     },
     "metadata": {},
     "output_type": "display_data"
    },
    {
     "data": {
      "application/vnd.jupyter.widget-view+json": {
       "model_id": "22259f662b264b60b9d99caee0baba4c",
       "version_major": 2,
       "version_minor": 0
      },
      "text/plain": [
       "  0%|          | 0/2 [00:00<?, ?it/s]"
      ]
     },
     "metadata": {},
     "output_type": "display_data"
    },
    {
     "data": {
      "application/vnd.jupyter.widget-view+json": {
       "model_id": "1f5569a94871474faf380eb8ce373c06",
       "version_major": 2,
       "version_minor": 0
      },
      "text/plain": [
       "Cleaning Flights..:   0%|          | 0/16 [00:00<?, ?it/s]"
      ]
     },
     "metadata": {},
     "output_type": "display_data"
    },
    {
     "data": {
      "application/vnd.jupyter.widget-view+json": {
       "model_id": "03ef3c8182c04ab588c52785664a80cb",
       "version_major": 2,
       "version_minor": 0
      },
      "text/plain": [
       "Cleaning Flights..:   0%|          | 0/15 [00:00<?, ?it/s]"
      ]
     },
     "metadata": {},
     "output_type": "display_data"
    }
   ],
   "source": [
    "for orig in tqdm(orig_list):\n",
    "    for dest in tqdm(dest_list, leave=False):\n",
    "        for ob_dt in tqdm(ob_dt_list, leave=False):\n",
    "            kayak_url = f'https://www.kayak.com/flights/{orig}-{dest}/{ob_dt}/{rtrn_dt}?sort=bestflight_a'\n",
    "            curr_od_df = clean_flts(get_flts(kayak_url))\n",
    "            curr_od_df['ob_dep_dt'] = pd.to_datetime(ob_dt, format='%Y-%m-%d')\n",
    "            curr_od_df['rtrn_dep_dt'] = pd.to_datetime('2025-08-17', format='%Y-%m-%d')\n",
    "            curr_od_df = curr_od_df[col_order]\n",
    "            if first_run:\n",
    "                flts_df = curr_od_df\n",
    "                first_run = False\n",
    "            else:\n",
    "                flts_df = pd.concat([flts_df, curr_od_df], ignore_index=True)"
   ]
  },
  {
   "cell_type": "code",
   "execution_count": 17,
   "metadata": {},
   "outputs": [],
   "source": [
    "flts_df['ob_dep_dt'] = flts_df.ob_dep_dt.dt.date\n",
    "flts_df['rtrn_dep_dt'] = flts_df.rtrn_dep_dt.dt.date"
   ]
  },
  {
   "cell_type": "code",
   "execution_count": 19,
   "metadata": {},
   "outputs": [],
   "source": [
    "flts_df.to_excel(f'tds_draft_weekend_flts_{datetime.now().strftime(\"%b%d\").lower()}.xlsx', index=False)"
   ]
  },
  {
   "cell_type": "code",
   "execution_count": null,
   "metadata": {},
   "outputs": [],
   "source": []
  }
 ],
 "metadata": {
  "kernelspec": {
   "display_name": "Python 3",
   "language": "python",
   "name": "python3"
  },
  "language_info": {
   "codemirror_mode": {
    "name": "ipython",
    "version": 3
   },
   "file_extension": ".py",
   "mimetype": "text/x-python",
   "name": "python",
   "nbconvert_exporter": "python",
   "pygments_lexer": "ipython3",
   "version": "3.12.0"
  }
 },
 "nbformat": 4,
 "nbformat_minor": 2
}
