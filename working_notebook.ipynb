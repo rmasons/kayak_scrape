{
 "cells": [
  {
   "cell_type": "code",
   "execution_count": 1,
   "metadata": {},
   "outputs": [],
   "source": [
    "%load_ext autoreload"
   ]
  },
  {
   "cell_type": "code",
   "execution_count": 2,
   "metadata": {},
   "outputs": [],
   "source": [
    "%autoreload 2"
   ]
  },
  {
   "cell_type": "code",
   "execution_count": 3,
   "metadata": {},
   "outputs": [],
   "source": [
    "from kayak_scrape import get_flts, clean_flts\n",
    "from itertools import chain\n",
    "from tqdm.auto import tqdm\n",
    "from datetime import datetime\n",
    "import pandas as pd\n",
    "import numpy as np"
   ]
  },
  {
   "cell_type": "code",
   "execution_count": 4,
   "metadata": {},
   "outputs": [],
   "source": [
    "orig_list = ['DFW', 'DAL', 'TUL', 'XNA', 'DCA', 'IAD']\n",
    "dest_list = ['SDF', 'LEX']\n",
    "ob_dt_list = ['2025-08-14', '2025-08-13']\n",
    "rtrn_dt = '2025-08-17'"
   ]
  },
  {
   "cell_type": "code",
   "execution_count": 5,
   "metadata": {},
   "outputs": [],
   "source": [
    "col_order =['ob_dep_dt', 'ob_dep_tm', 'ob_arr_tm', 'ob_airline', 'ob_stops', 'ob_orig_arpt', 'ob_dest_arpt', 'rtrn_dep_dt', 'rtrn_dep_tm', 'rtrn_arr_tm', 'rtrn_airline', 'rtrn_stops', 'rtrn_orig_arpt', \n",
    "            'rtrn_dest_arpt', 'cabin', 'fare', 'bkng_link']"
   ]
  },
  {
   "cell_type": "code",
   "execution_count": 6,
   "metadata": {},
   "outputs": [],
   "source": [
    "first_run = True"
   ]
  },
  {
   "cell_type": "code",
   "execution_count": 7,
   "metadata": {},
   "outputs": [
    {
     "data": {
      "application/vnd.jupyter.widget-view+json": {
       "model_id": "11f967ed338841419b7b72e8acc62a3f",
       "version_major": 2,
       "version_minor": 0
      },
      "text/plain": [
       "  0%|          | 0/6 [00:00<?, ?it/s]"
      ]
     },
     "metadata": {},
     "output_type": "display_data"
    },
    {
     "data": {
      "application/vnd.jupyter.widget-view+json": {
       "model_id": "2586122b80ca413aa300ceae43ed3493",
       "version_major": 2,
       "version_minor": 0
      },
      "text/plain": [
       "  0%|          | 0/2 [00:00<?, ?it/s]"
      ]
     },
     "metadata": {},
     "output_type": "display_data"
    },
    {
     "data": {
      "application/vnd.jupyter.widget-view+json": {
       "model_id": "0d55ce5e0ff3449998ff5ad3931f8223",
       "version_major": 2,
       "version_minor": 0
      },
      "text/plain": [
       "  0%|          | 0/2 [00:00<?, ?it/s]"
      ]
     },
     "metadata": {},
     "output_type": "display_data"
    },
    {
     "data": {
      "application/vnd.jupyter.widget-view+json": {
       "model_id": "168bf339bfe243abb072396c9c18a15f",
       "version_major": 2,
       "version_minor": 0
      },
      "text/plain": [
       "Cleaning Flights..:   0%|          | 0/16 [00:00<?, ?it/s]"
      ]
     },
     "metadata": {},
     "output_type": "display_data"
    },
    {
     "data": {
      "application/vnd.jupyter.widget-view+json": {
       "model_id": "58a7b73776ab41db92feb7dd3f618760",
       "version_major": 2,
       "version_minor": 0
      },
      "text/plain": [
       "Cleaning Flights..:   0%|          | 0/16 [00:00<?, ?it/s]"
      ]
     },
     "metadata": {},
     "output_type": "display_data"
    },
    {
     "data": {
      "application/vnd.jupyter.widget-view+json": {
       "model_id": "3bd5531eff9848de815aa2baab6c6b6f",
       "version_major": 2,
       "version_minor": 0
      },
      "text/plain": [
       "  0%|          | 0/2 [00:00<?, ?it/s]"
      ]
     },
     "metadata": {},
     "output_type": "display_data"
    },
    {
     "data": {
      "application/vnd.jupyter.widget-view+json": {
       "model_id": "207e047b50894015b7cb010d898fea06",
       "version_major": 2,
       "version_minor": 0
      },
      "text/plain": [
       "Cleaning Flights..:   0%|          | 0/16 [00:00<?, ?it/s]"
      ]
     },
     "metadata": {},
     "output_type": "display_data"
    },
    {
     "data": {
      "application/vnd.jupyter.widget-view+json": {
       "model_id": "b97f0ef572ef4941aec458f6c1a239b3",
       "version_major": 2,
       "version_minor": 0
      },
      "text/plain": [
       "Cleaning Flights..:   0%|          | 0/16 [00:00<?, ?it/s]"
      ]
     },
     "metadata": {},
     "output_type": "display_data"
    },
    {
     "data": {
      "application/vnd.jupyter.widget-view+json": {
       "model_id": "5681dd3d279345c9ab33b6b0a79bea01",
       "version_major": 2,
       "version_minor": 0
      },
      "text/plain": [
       "  0%|          | 0/2 [00:00<?, ?it/s]"
      ]
     },
     "metadata": {},
     "output_type": "display_data"
    },
    {
     "data": {
      "application/vnd.jupyter.widget-view+json": {
       "model_id": "60a24c9594924f998c7e00aa7124e79c",
       "version_major": 2,
       "version_minor": 0
      },
      "text/plain": [
       "  0%|          | 0/2 [00:00<?, ?it/s]"
      ]
     },
     "metadata": {},
     "output_type": "display_data"
    },
    {
     "data": {
      "application/vnd.jupyter.widget-view+json": {
       "model_id": "9ab8285464114baa8f72113046c1b281",
       "version_major": 2,
       "version_minor": 0
      },
      "text/plain": [
       "Cleaning Flights..:   0%|          | 0/15 [00:00<?, ?it/s]"
      ]
     },
     "metadata": {},
     "output_type": "display_data"
    },
    {
     "data": {
      "application/vnd.jupyter.widget-view+json": {
       "model_id": "88663ab68d284b549ddee9ae5f648a39",
       "version_major": 2,
       "version_minor": 0
      },
      "text/plain": [
       "Cleaning Flights..:   0%|          | 0/15 [00:00<?, ?it/s]"
      ]
     },
     "metadata": {},
     "output_type": "display_data"
    },
    {
     "data": {
      "application/vnd.jupyter.widget-view+json": {
       "model_id": "3fa4e61d99154e44a8288f88353c3fe1",
       "version_major": 2,
       "version_minor": 0
      },
      "text/plain": [
       "  0%|          | 0/2 [00:00<?, ?it/s]"
      ]
     },
     "metadata": {},
     "output_type": "display_data"
    },
    {
     "data": {
      "application/vnd.jupyter.widget-view+json": {
       "model_id": "004f1c1d053e437a8a59ea2c105e4d8c",
       "version_major": 2,
       "version_minor": 0
      },
      "text/plain": [
       "Cleaning Flights..:   0%|          | 0/15 [00:00<?, ?it/s]"
      ]
     },
     "metadata": {},
     "output_type": "display_data"
    },
    {
     "data": {
      "application/vnd.jupyter.widget-view+json": {
       "model_id": "2270dfd20d4f4bc4bd1252fca214d6e4",
       "version_major": 2,
       "version_minor": 0
      },
      "text/plain": [
       "Cleaning Flights..:   0%|          | 0/15 [00:00<?, ?it/s]"
      ]
     },
     "metadata": {},
     "output_type": "display_data"
    },
    {
     "data": {
      "application/vnd.jupyter.widget-view+json": {
       "model_id": "48f7a6f9e6ef4e10b48da08364d9c13e",
       "version_major": 2,
       "version_minor": 0
      },
      "text/plain": [
       "  0%|          | 0/2 [00:00<?, ?it/s]"
      ]
     },
     "metadata": {},
     "output_type": "display_data"
    },
    {
     "data": {
      "application/vnd.jupyter.widget-view+json": {
       "model_id": "a8b6b62ecdd64da3b0f288ec41273857",
       "version_major": 2,
       "version_minor": 0
      },
      "text/plain": [
       "  0%|          | 0/2 [00:00<?, ?it/s]"
      ]
     },
     "metadata": {},
     "output_type": "display_data"
    },
    {
     "data": {
      "application/vnd.jupyter.widget-view+json": {
       "model_id": "2a27206f56914bea8b3b0950d5991820",
       "version_major": 2,
       "version_minor": 0
      },
      "text/plain": [
       "Cleaning Flights..:   0%|          | 0/15 [00:00<?, ?it/s]"
      ]
     },
     "metadata": {},
     "output_type": "display_data"
    },
    {
     "data": {
      "application/vnd.jupyter.widget-view+json": {
       "model_id": "2747cde46b734561b68311ea7a018df6",
       "version_major": 2,
       "version_minor": 0
      },
      "text/plain": [
       "Cleaning Flights..:   0%|          | 0/15 [00:00<?, ?it/s]"
      ]
     },
     "metadata": {},
     "output_type": "display_data"
    },
    {
     "data": {
      "application/vnd.jupyter.widget-view+json": {
       "model_id": "ac2a7f50a6974e9cabc679deffd99211",
       "version_major": 2,
       "version_minor": 0
      },
      "text/plain": [
       "  0%|          | 0/2 [00:00<?, ?it/s]"
      ]
     },
     "metadata": {},
     "output_type": "display_data"
    },
    {
     "data": {
      "application/vnd.jupyter.widget-view+json": {
       "model_id": "ff956daf7c704922860d675b56c56175",
       "version_major": 2,
       "version_minor": 0
      },
      "text/plain": [
       "Cleaning Flights..:   0%|          | 0/15 [00:00<?, ?it/s]"
      ]
     },
     "metadata": {},
     "output_type": "display_data"
    },
    {
     "data": {
      "application/vnd.jupyter.widget-view+json": {
       "model_id": "00bc0fe08a43470a97e98116f3d49dba",
       "version_major": 2,
       "version_minor": 0
      },
      "text/plain": [
       "Cleaning Flights..:   0%|          | 0/15 [00:00<?, ?it/s]"
      ]
     },
     "metadata": {},
     "output_type": "display_data"
    },
    {
     "data": {
      "application/vnd.jupyter.widget-view+json": {
       "model_id": "71194cfde8f04830821256539910d50f",
       "version_major": 2,
       "version_minor": 0
      },
      "text/plain": [
       "  0%|          | 0/2 [00:00<?, ?it/s]"
      ]
     },
     "metadata": {},
     "output_type": "display_data"
    },
    {
     "data": {
      "application/vnd.jupyter.widget-view+json": {
       "model_id": "4894436230894b76970bc0b4ffb63108",
       "version_major": 2,
       "version_minor": 0
      },
      "text/plain": [
       "  0%|          | 0/2 [00:00<?, ?it/s]"
      ]
     },
     "metadata": {},
     "output_type": "display_data"
    },
    {
     "data": {
      "application/vnd.jupyter.widget-view+json": {
       "model_id": "f64578d97eae4a8ea3ef49734b05cbb6",
       "version_major": 2,
       "version_minor": 0
      },
      "text/plain": [
       "Cleaning Flights..:   0%|          | 0/15 [00:00<?, ?it/s]"
      ]
     },
     "metadata": {},
     "output_type": "display_data"
    },
    {
     "data": {
      "application/vnd.jupyter.widget-view+json": {
       "model_id": "1d9dcd3b303246c2be3e18241cf815b4",
       "version_major": 2,
       "version_minor": 0
      },
      "text/plain": [
       "Cleaning Flights..:   0%|          | 0/15 [00:00<?, ?it/s]"
      ]
     },
     "metadata": {},
     "output_type": "display_data"
    },
    {
     "data": {
      "application/vnd.jupyter.widget-view+json": {
       "model_id": "55bf5837e3234cb286a688c5618f7c56",
       "version_major": 2,
       "version_minor": 0
      },
      "text/plain": [
       "  0%|          | 0/2 [00:00<?, ?it/s]"
      ]
     },
     "metadata": {},
     "output_type": "display_data"
    },
    {
     "data": {
      "application/vnd.jupyter.widget-view+json": {
       "model_id": "f46abc584983402cab681a69be79b789",
       "version_major": 2,
       "version_minor": 0
      },
      "text/plain": [
       "Cleaning Flights..:   0%|          | 0/15 [00:00<?, ?it/s]"
      ]
     },
     "metadata": {},
     "output_type": "display_data"
    },
    {
     "data": {
      "application/vnd.jupyter.widget-view+json": {
       "model_id": "55aa773fa3444b31a85887c3a5b207ab",
       "version_major": 2,
       "version_minor": 0
      },
      "text/plain": [
       "Cleaning Flights..:   0%|          | 0/15 [00:00<?, ?it/s]"
      ]
     },
     "metadata": {},
     "output_type": "display_data"
    },
    {
     "data": {
      "application/vnd.jupyter.widget-view+json": {
       "model_id": "e409d6bb7e614a1382eb47d3abf389a1",
       "version_major": 2,
       "version_minor": 0
      },
      "text/plain": [
       "  0%|          | 0/2 [00:00<?, ?it/s]"
      ]
     },
     "metadata": {},
     "output_type": "display_data"
    },
    {
     "data": {
      "application/vnd.jupyter.widget-view+json": {
       "model_id": "b54ba85dd41f4418ab1539b3621e8815",
       "version_major": 2,
       "version_minor": 0
      },
      "text/plain": [
       "  0%|          | 0/2 [00:00<?, ?it/s]"
      ]
     },
     "metadata": {},
     "output_type": "display_data"
    },
    {
     "data": {
      "application/vnd.jupyter.widget-view+json": {
       "model_id": "0fa7da010cba42ada4b4b4ac72f9eded",
       "version_major": 2,
       "version_minor": 0
      },
      "text/plain": [
       "Cleaning Flights..:   0%|          | 0/15 [00:00<?, ?it/s]"
      ]
     },
     "metadata": {},
     "output_type": "display_data"
    },
    {
     "data": {
      "application/vnd.jupyter.widget-view+json": {
       "model_id": "28ecdac16318451ab44f5e4af689b506",
       "version_major": 2,
       "version_minor": 0
      },
      "text/plain": [
       "Cleaning Flights..:   0%|          | 0/15 [00:00<?, ?it/s]"
      ]
     },
     "metadata": {},
     "output_type": "display_data"
    },
    {
     "data": {
      "application/vnd.jupyter.widget-view+json": {
       "model_id": "b7fc96221e8d49d298f8ff12db072ace",
       "version_major": 2,
       "version_minor": 0
      },
      "text/plain": [
       "  0%|          | 0/2 [00:00<?, ?it/s]"
      ]
     },
     "metadata": {},
     "output_type": "display_data"
    },
    {
     "data": {
      "application/vnd.jupyter.widget-view+json": {
       "model_id": "9fcf9ff7d1be45bb8dde3fbfe64ba39b",
       "version_major": 2,
       "version_minor": 0
      },
      "text/plain": [
       "Cleaning Flights..:   0%|          | 0/15 [00:00<?, ?it/s]"
      ]
     },
     "metadata": {},
     "output_type": "display_data"
    },
    {
     "data": {
      "application/vnd.jupyter.widget-view+json": {
       "model_id": "84f98c0f508849509a37e37f30c3692b",
       "version_major": 2,
       "version_minor": 0
      },
      "text/plain": [
       "Cleaning Flights..:   0%|          | 0/15 [00:00<?, ?it/s]"
      ]
     },
     "metadata": {},
     "output_type": "display_data"
    },
    {
     "data": {
      "application/vnd.jupyter.widget-view+json": {
       "model_id": "646fcd845ab24806ab5d185cd238bf65",
       "version_major": 2,
       "version_minor": 0
      },
      "text/plain": [
       "  0%|          | 0/2 [00:00<?, ?it/s]"
      ]
     },
     "metadata": {},
     "output_type": "display_data"
    },
    {
     "data": {
      "application/vnd.jupyter.widget-view+json": {
       "model_id": "460e522b8b0a4d9bb6b4c31acdb05c29",
       "version_major": 2,
       "version_minor": 0
      },
      "text/plain": [
       "  0%|          | 0/2 [00:00<?, ?it/s]"
      ]
     },
     "metadata": {},
     "output_type": "display_data"
    },
    {
     "data": {
      "application/vnd.jupyter.widget-view+json": {
       "model_id": "3d32046e0f59493ca0c013ce78acd2c3",
       "version_major": 2,
       "version_minor": 0
      },
      "text/plain": [
       "Cleaning Flights..:   0%|          | 0/15 [00:00<?, ?it/s]"
      ]
     },
     "metadata": {},
     "output_type": "display_data"
    },
    {
     "data": {
      "application/vnd.jupyter.widget-view+json": {
       "model_id": "e7e4ac55534e40d391d3d562a7e2ef0d",
       "version_major": 2,
       "version_minor": 0
      },
      "text/plain": [
       "Cleaning Flights..:   0%|          | 0/15 [00:00<?, ?it/s]"
      ]
     },
     "metadata": {},
     "output_type": "display_data"
    },
    {
     "data": {
      "application/vnd.jupyter.widget-view+json": {
       "model_id": "5123e11fedc24963a10fb24d86f7a33b",
       "version_major": 2,
       "version_minor": 0
      },
      "text/plain": [
       "  0%|          | 0/2 [00:00<?, ?it/s]"
      ]
     },
     "metadata": {},
     "output_type": "display_data"
    },
    {
     "data": {
      "application/vnd.jupyter.widget-view+json": {
       "model_id": "e9fd5278e3bf4a43a73d4710654ae562",
       "version_major": 2,
       "version_minor": 0
      },
      "text/plain": [
       "Cleaning Flights..:   0%|          | 0/15 [00:00<?, ?it/s]"
      ]
     },
     "metadata": {},
     "output_type": "display_data"
    },
    {
     "data": {
      "application/vnd.jupyter.widget-view+json": {
       "model_id": "3394d7a24ef44cddbbd1ec189aaffc6b",
       "version_major": 2,
       "version_minor": 0
      },
      "text/plain": [
       "Cleaning Flights..:   0%|          | 0/15 [00:00<?, ?it/s]"
      ]
     },
     "metadata": {},
     "output_type": "display_data"
    }
   ],
   "source": [
    "for orig in tqdm(orig_list):\n",
    "    for dest in tqdm(dest_list, leave=False):\n",
    "        for ob_dt in tqdm(ob_dt_list, leave=False):\n",
    "            kayak_url = f'https://www.kayak.com/flights/{orig}-{dest}/{ob_dt}/{rtrn_dt}?sort=bestflight_a'\n",
    "            curr_od_df = clean_flts(get_flts(kayak_url))\n",
    "            curr_od_df['ob_dep_dt'] = pd.to_datetime(ob_dt, format='%Y-%m-%d')\n",
    "            curr_od_df['rtrn_dep_dt'] = pd.to_datetime('2025-08-17', format='%Y-%m-%d')\n",
    "            curr_od_df = curr_od_df[col_order]\n",
    "            if first_run:\n",
    "                flts_df = curr_od_df\n",
    "                first_run = False\n",
    "            else:\n",
    "                flts_df = pd.concat([flts_df, curr_od_df], ignore_index=True)"
   ]
  },
  {
   "cell_type": "code",
   "execution_count": 8,
   "metadata": {},
   "outputs": [],
   "source": [
    "flts_df['ob_dep_dt'] = flts_df.ob_dep_dt.dt.date\n",
    "flts_df['rtrn_dep_dt'] = flts_df.rtrn_dep_dt.dt.date"
   ]
  },
  {
   "cell_type": "code",
   "execution_count": 9,
   "metadata": {},
   "outputs": [],
   "source": [
    "flts_df.to_excel(f'results/tds_draft_weekend_flts_{datetime.now().strftime(\"%b%d\").lower()}.xlsx', index=False)"
   ]
  },
  {
   "cell_type": "code",
   "execution_count": null,
   "metadata": {},
   "outputs": [],
   "source": []
  }
 ],
 "metadata": {
  "kernelspec": {
   "display_name": "Python 3",
   "language": "python",
   "name": "python3"
  },
  "language_info": {
   "codemirror_mode": {
    "name": "ipython",
    "version": 3
   },
   "file_extension": ".py",
   "mimetype": "text/x-python",
   "name": "python",
   "nbconvert_exporter": "python",
   "pygments_lexer": "ipython3",
   "version": "3.12.0"
  }
 },
 "nbformat": 4,
 "nbformat_minor": 2
}
